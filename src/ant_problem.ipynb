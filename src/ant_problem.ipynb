{
 "cells": [
  {
   "cell_type": "markdown",
   "id": "e93aab6e-f83d-40f9-b50b-f98f929d5880",
   "metadata": {},
   "source": [
    "# Ant Problem\n",
    "\n",
    "This notebook tries to provide a solution to the following question:\n",
    "\n",
    "An ant leaves its anthill in order to forage for food. It moves with the speed of 10cm per second, but it doesn’t know where to go, therefore every second it moves randomly 10cm directly north, south, east or west with equal probability.\n",
    "\n",
    "- If the food is located on east-west lines 20cm to the north and 20cm to the south, as well as on north-south lines 20cm to the east and 20cm to the west from the anthill, how long will it take the ant to reach it on average?\n",
    "- What is the average time the ant will reach food if it is located only on a diagonal line passing through (10cm, 0cm) and (0cm, 10cm) points?\n",
    "- Can you Write a program that comes up with an estimate of average time to find food for any closed boundary around the anthill? What would be the answer if food is located outside an area defined by ( (x – 2.5cm) / 30cm )2 + ( (y – 2.5cm) / 40cm )2 < 1 in coordinate system where the anthill is located at (x = 0cm, y = 0cm)?\n"
   ]
  },
  {
   "cell_type": "markdown",
   "source": [
    "## Base Code\n",
    "\n",
    "For simulating different parts of the problem, I created a simple random walk function that gets a goal condition and tries to reach that goal randomly. At the end it returns the steps it used for reaching the goal. The `simulate` function runs the random walk multiple times and returns the average steps needed to rach the goal "
   ],
   "metadata": {
    "collapsed": false
   },
   "id": "2a9e26062d954a99"
  },
  {
   "cell_type": "code",
   "execution_count": 1,
   "id": "f6411e15-4b19-45a3-a005-14c278a618e3",
   "metadata": {
    "ExecuteTime": {
     "end_time": "2023-11-01T23:49:53.960896518Z",
     "start_time": "2023-11-01T23:49:53.960633501Z"
    }
   },
   "outputs": [],
   "source": [
    "import math\n",
    "import random\n",
    "from typing import Callable\n",
    "from tqdm import tqdm"
   ]
  },
  {
   "cell_type": "code",
   "execution_count": 2,
   "id": "8c4154f6-2887-482b-90c3-bded0b6b0b52",
   "metadata": {
    "ExecuteTime": {
     "end_time": "2023-11-01T23:49:53.961076663Z",
     "start_time": "2023-11-01T23:49:53.960748056Z"
    }
   },
   "outputs": [],
   "source": [
    "def random_walk_step(pos: tuple[int, int]) -> tuple[int, int]:\n",
    "    movement = random.choice([\n",
    "        (10, 0),\n",
    "        (-10, 0),\n",
    "        (0, 10),\n",
    "        (0, -10),\n",
    "    ])\n",
    "    return (pos[0] + movement[0], pos[1] + movement[1])"
   ]
  },
  {
   "cell_type": "code",
   "execution_count": 3,
   "id": "805824ee-c4dc-4407-9d68-fc9010e21fdf",
   "metadata": {
    "ExecuteTime": {
     "end_time": "2023-11-01T23:49:53.961132372Z",
     "start_time": "2023-11-01T23:49:53.960786994Z"
    }
   },
   "outputs": [],
   "source": [
    "def random_walk(\n",
    "        start_pos: tuple[int, int],\n",
    "        condition: Callable[[tuple[int, int]], bool],\n",
    "        max_steps: int = 10000,\n",
    ") -> int | float:\n",
    "    steps = 0\n",
    "    pos = start_pos\n",
    "    while not condition(pos) and steps < max_steps:\n",
    "        pos = random_walk_step(pos=pos)\n",
    "        steps += 1\n",
    "\n",
    "    if steps == max_steps:\n",
    "        return math.inf\n",
    "\n",
    "    return steps"
   ]
  },
  {
   "cell_type": "code",
   "execution_count": 4,
   "id": "70ee96e6-c78d-4eb7-906e-1f413799845f",
   "metadata": {
    "ExecuteTime": {
     "end_time": "2023-11-01T23:49:53.961168840Z",
     "start_time": "2023-11-01T23:49:53.960810721Z"
    }
   },
   "outputs": [],
   "source": [
    "def simulate(\n",
    "        start_pos: tuple[int, int],\n",
    "        condition: Callable[[tuple[int, int]], bool],\n",
    "        simulation_rounds: int = 10000,\n",
    ") -> float:\n",
    "    results = []\n",
    "    for _ in tqdm(range(simulation_rounds)):\n",
    "        results.append(\n",
    "            random_walk(\n",
    "                start_pos=start_pos,\n",
    "                condition=condition,\n",
    "            )\n",
    "        )\n",
    "\n",
    "    return sum(results) / len(results)"
   ]
  },
  {
   "cell_type": "markdown",
   "source": [
    "## Question 1\n",
    "\n",
    "The problem is very similar to the famous gambler's ruin. We can use the Markov chain theorem to solve it.\n",
    "\n",
    "\n",
    "$E(T_{i,j}^{x=+20}) = Expected\\ time\\ to\\ reach\\ x = +20cm\\ if\\ we\\ are\\ currently\\ at\\ x=i\\ and\\ y=j$\n",
    "\n",
    "So the goal is to find $E{T_{0,0}^{x=+20}}$ here. Based on the Markov theorem we can assume the following:\n",
    "\n",
    "$E(T_{i,j}^{x=+20}) = 1 + \\frac{1}{4}E(T_{i-10,j}^{x=+20}) + \\frac{1}{4}E(T_{i+10,j}^{x=+20}) + \\frac{1}{4}E(T_{i,j-10}^{x=+20}) + \\frac{1}{4}E(T_{i,j+10}^{x=+20})$\n",
    "\n",
    "We also know:\n",
    "\n",
    "$\\forall i, j \\in R, E(T_{i,20}^{x=+20}) = E(T_{20,j}^{x=+20}) = E(T_{-20, j}^{x=+20}) = E(T_{i,-20}^{x=+20}) = 0$\n",
    "\n",
    "By solving the above equation system, and also the same systems for $E{T_{0,0}^{x=-20}}, E{T_{0,0}^{y=+20}}\\ and\\ E{T_{0,0}^{y=-20}}$, we can compute the final estimated time with the sum.\n",
    "\n",
    "$E(T_{0,0}) = E{T_{0,0}^{x=+20}} + E{T_{0,0}^{x=-20}} + E{T_{0,0}^{y=+20}} + E{T_{0,0}^{y=-20}} = 4.5$"
   ],
   "metadata": {
    "collapsed": false
   },
   "id": "2c7a4cac-09b9-489e-ba21-779b0bc5cc97"
  },
  {
   "cell_type": "code",
   "execution_count": 5,
   "outputs": [],
   "source": [
    "def question_1_condition(pos: tuple[int, int]) -> bool:\n",
    "    return abs(pos[0]) >= 20 or abs(pos[1]) >= 20"
   ],
   "metadata": {
    "collapsed": false,
    "ExecuteTime": {
     "end_time": "2023-11-01T23:49:53.961199190Z",
     "start_time": "2023-11-01T23:49:53.960845992Z"
    }
   },
   "id": "725ea179e88393c"
  },
  {
   "cell_type": "code",
   "execution_count": 6,
   "outputs": [
    {
     "name": "stderr",
     "output_type": "stream",
     "text": [
      "100%|██████████| 10000/10000 [00:00<00:00, 363202.95it/s]"
     ]
    },
    {
     "name": "stdout",
     "output_type": "stream",
     "text": [
      "Average time to reach the goal is: 4.4932.\n"
     ]
    },
    {
     "name": "stderr",
     "output_type": "stream",
     "text": [
      "\n"
     ]
    }
   ],
   "source": [
    "q1_solution = simulate(\n",
    "    start_pos=(0, 0),\n",
    "    condition=question_1_condition,\n",
    ")\n",
    "print(f'Average time to reach the goal is: {q1_solution}.')"
   ],
   "metadata": {
    "collapsed": false,
    "ExecuteTime": {
     "end_time": "2023-11-01T23:49:53.995333215Z",
     "start_time": "2023-11-01T23:49:53.962037702Z"
    }
   },
   "id": "86d29b5852313f0d"
  },
  {
   "cell_type": "markdown",
   "source": [
    "## Question 2\n",
    "\n",
    "The answer is infinity, Because the expected time to reach an unbounded goal in random walk is **$\\infty$**."
   ],
   "metadata": {
    "collapsed": false
   },
   "id": "fce129a8-2000-4c55-84cc-3687206b1a4c"
  },
  {
   "cell_type": "code",
   "execution_count": 7,
   "outputs": [],
   "source": [
    "def question_2_condition(pos: tuple[int, int]) -> bool:\n",
    "    return pos[0] + pos[1] == 10"
   ],
   "metadata": {
    "collapsed": false,
    "ExecuteTime": {
     "end_time": "2023-11-01T23:49:54.415563277Z",
     "start_time": "2023-11-01T23:49:54.411213799Z"
    }
   },
   "id": "e944000b6e4e6612"
  },
  {
   "cell_type": "code",
   "execution_count": 8,
   "outputs": [
    {
     "name": "stderr",
     "output_type": "stream",
     "text": [
      "100%|██████████| 10000/10000 [00:00<00:00, 11945.65it/s]"
     ]
    },
    {
     "name": "stdout",
     "output_type": "stream",
     "text": [
      "Average time to reach the goal is: inf.\n"
     ]
    },
    {
     "name": "stderr",
     "output_type": "stream",
     "text": [
      "\n"
     ]
    }
   ],
   "source": [
    "q2_solution = simulate(\n",
    "    start_pos=(0, 0),\n",
    "    condition=question_2_condition,\n",
    ")\n",
    "print(f'Average time to reach the goal is: {q2_solution}.')"
   ],
   "metadata": {
    "collapsed": false,
    "ExecuteTime": {
     "end_time": "2023-11-01T23:49:57.397803424Z",
     "start_time": "2023-11-01T23:49:56.557443935Z"
    }
   },
   "id": "9b89725cf9eed418"
  },
  {
   "cell_type": "markdown",
   "source": [
    "## Question 3\n",
    "\n",
    "We can define the goal condition function like bellow and we get the value of **~14.0** as the estimated steps needed for the ant to reach the food."
   ],
   "metadata": {
    "collapsed": false
   },
   "id": "2356fb3b227dc91b"
  },
  {
   "cell_type": "code",
   "execution_count": 9,
   "outputs": [],
   "source": [
    "def question_3_condition(pos: tuple[int, int]) -> bool:\n",
    "    x, y = pos\n",
    "    return math.pow((x - 2.5) / 30, 2) + math.pow((y - 2.5) / 40, 2) >= 1"
   ],
   "metadata": {
    "collapsed": false,
    "ExecuteTime": {
     "end_time": "2023-11-01T23:50:00.110919395Z",
     "start_time": "2023-11-01T23:50:00.104915249Z"
    }
   },
   "id": "dada5e2445a847a7"
  },
  {
   "cell_type": "code",
   "execution_count": 10,
   "outputs": [
    {
     "name": "stderr",
     "output_type": "stream",
     "text": [
      "100%|██████████| 10000/10000 [00:00<00:00, 79954.71it/s]"
     ]
    },
    {
     "name": "stdout",
     "output_type": "stream",
     "text": [
      "Average time to reach the goal is: 13.9417.\n"
     ]
    },
    {
     "name": "stderr",
     "output_type": "stream",
     "text": [
      "\n"
     ]
    }
   ],
   "source": [
    "q3_solution = simulate(\n",
    "    start_pos=(0, 0),\n",
    "    condition=question_3_condition,\n",
    ")\n",
    "print(f'Average time to reach the goal is: {q3_solution}.')"
   ],
   "metadata": {
    "collapsed": false,
    "ExecuteTime": {
     "end_time": "2023-11-01T23:50:05.826007817Z",
     "start_time": "2023-11-01T23:50:05.697657838Z"
    }
   },
   "id": "2ba9420265c7e4e9"
  }
 ],
 "metadata": {
  "kernelspec": {
   "display_name": "monireh-yousefi_trading-experiments",
   "language": "python",
   "name": "monireh-yousefi_trading-experiments"
  },
  "language_info": {
   "codemirror_mode": {
    "name": "ipython",
    "version": 3
   },
   "file_extension": ".py",
   "mimetype": "text/x-python",
   "name": "python",
   "nbconvert_exporter": "python",
   "pygments_lexer": "ipython3",
   "version": "3.12.0"
  }
 },
 "nbformat": 4,
 "nbformat_minor": 5
}

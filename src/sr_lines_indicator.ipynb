{
 "cells": [
  {
   "cell_type": "markdown",
   "source": [
    "# SR Lines Indicator\n",
    "\n",
    "This code tries to detect support and resistance lines in the market and draw them on tradingview using pine script for traders to use.\n",
    "\n",
    "The code is an experiment so that I can get a small hands on experience with trading data."
   ],
   "metadata": {
    "collapsed": false
   },
   "id": "8f62a96ac21fec3"
  },
  {
   "cell_type": "markdown",
   "source": [
    "## Preparing Data\n",
    "\n",
    "In this part we get the daily price information from Yahoo finance API. The only processing is to convert datetime indices to python date objects as they are easier to work with in next stages."
   ],
   "metadata": {
    "collapsed": false
   },
   "id": "69f965ebe7d6e261"
  },
  {
   "cell_type": "code",
   "execution_count": 1,
   "id": "032c0118-317f-4613-a9a6-37f6d90e57d2",
   "metadata": {
    "ExecuteTime": {
     "end_time": "2023-10-31T12:35:01.605983931Z",
     "start_time": "2023-10-31T12:35:01.340630312Z"
    }
   },
   "outputs": [],
   "source": [
    "import datetime\n",
    "\n",
    "import pandas as pd\n",
    "import yfinance as yf"
   ]
  },
  {
   "cell_type": "code",
   "execution_count": 2,
   "outputs": [],
   "source": [
    "def get_price_df(symbol: str, start_date: datetime.date, end_date: datetime.date) -> pd.DataFrame:\n",
    "    df = yf.download(\n",
    "        symbol,\n",
    "        start=start_date.strftime('%Y-%m-%d'),\n",
    "        end=end_date.strftime('%Y-%m-%d'),\n",
    "    )\n",
    "    return df.reindex(df.index.date)"
   ],
   "metadata": {
    "collapsed": false,
    "ExecuteTime": {
     "end_time": "2023-10-31T12:35:01.614238751Z",
     "start_time": "2023-10-31T12:35:01.606093168Z"
    }
   },
   "id": "c10dfdaabfde8f42"
  },
  {
   "cell_type": "markdown",
   "source": [
    "## Moving Average\n",
    "\n",
    "To detect trends I'm using moving averages. For computing it, we are using a technical analysis library called `ta` for this."
   ],
   "metadata": {
    "collapsed": false
   },
   "id": "3d9e58d5bf13c1a"
  },
  {
   "cell_type": "code",
   "execution_count": 3,
   "outputs": [],
   "source": [
    "import pandas as pd\n",
    "from ta import trend"
   ],
   "metadata": {
    "collapsed": false,
    "ExecuteTime": {
     "end_time": "2023-10-31T12:35:01.634513971Z",
     "start_time": "2023-10-31T12:35:01.611369148Z"
    }
   },
   "id": "5d0095c7e152b6be"
  },
  {
   "cell_type": "code",
   "execution_count": 4,
   "outputs": [],
   "source": [
    "def get_moving_average(price_df: pd.DataFrame, window: int) -> pd.Series:\n",
    "    return trend.sma_indicator(\n",
    "        close=price_df['Close'],\n",
    "        window=window,\n",
    "        fillna=True,\n",
    "    )"
   ],
   "metadata": {
    "collapsed": false,
    "ExecuteTime": {
     "end_time": "2023-10-31T12:35:01.634693129Z",
     "start_time": "2023-10-31T12:35:01.631542304Z"
    }
   },
   "id": "9e0f0fb4d324465c"
  },
  {
   "cell_type": "markdown",
   "source": [
    "## Trend Detection\n",
    "\n",
    "The algorithm used to detect trends is using moving averages. Whenever a moving average changes direction we assume the trend has finished."
   ],
   "metadata": {
    "collapsed": false
   },
   "id": "21a015cc4d9c422"
  },
  {
   "cell_type": "code",
   "execution_count": 18,
   "outputs": [],
   "source": [
    "import pydantic\n",
    "from enum import StrEnum, auto"
   ],
   "metadata": {
    "collapsed": false,
    "ExecuteTime": {
     "end_time": "2023-10-31T12:40:26.980230137Z",
     "start_time": "2023-10-31T12:40:26.936202275Z"
    }
   },
   "id": "504d15b21c2be7cd"
  },
  {
   "cell_type": "code",
   "execution_count": 19,
   "outputs": [],
   "source": [
    "class TrendDirection(StrEnum):\n",
    "    UP = auto()\n",
    "    DOWN = auto()\n",
    "\n",
    "\n",
    "class Trend(pydantic.BaseModel):\n",
    "    start_date: datetime.date\n",
    "    end_date: datetime.date\n",
    "    direction: TrendDirection"
   ],
   "metadata": {
    "collapsed": false,
    "ExecuteTime": {
     "end_time": "2023-10-31T12:40:27.253137231Z",
     "start_time": "2023-10-31T12:40:27.251613744Z"
    }
   },
   "id": "e89a6318423ae5ba"
  },
  {
   "cell_type": "code",
   "execution_count": 20,
   "outputs": [],
   "source": [
    "def get_trends(moving_averages: pd.Series) -> list[Trend]:\n",
    "    trends = []\n",
    "\n",
    "    trend_start_date = None\n",
    "    trend_direction = None\n",
    "\n",
    "    prev_key = None\n",
    "    for key, value in moving_averages.items():\n",
    "        if prev_key is None:\n",
    "            trend_start_date = key\n",
    "            prev_key = key\n",
    "            continue\n",
    "\n",
    "        prev_value = moving_averages.loc[prev_key]\n",
    "        if value > prev_value:\n",
    "            if trend_direction is None:\n",
    "                # The first trend.\n",
    "                trend_direction = TrendDirection.UP\n",
    "            elif trend_direction is TrendDirection.DOWN:\n",
    "                # Change of trend direction.\n",
    "                trends.append(\n",
    "                    Trend(\n",
    "                        start_date=trend_start_date,\n",
    "                        end_date=prev_key,\n",
    "                        direction=trend_direction,\n",
    "                    )\n",
    "                )\n",
    "\n",
    "                trend_start_date = prev_key\n",
    "                trend_direction = TrendDirection.UP\n",
    "        elif value < prev_value:\n",
    "            if trend_direction is None:\n",
    "                # The first trend.\n",
    "                trend_direction = TrendDirection.DOWN\n",
    "            elif trend_direction is TrendDirection.UP:\n",
    "                # Change of trend direction.\n",
    "                trends.append(\n",
    "                    Trend(\n",
    "                        start_date=trend_start_date,\n",
    "                        end_date=prev_key,\n",
    "                        direction=trend_direction,\n",
    "                    )\n",
    "                )\n",
    "\n",
    "                trend_start_date = prev_key\n",
    "                trend_direction = TrendDirection.DOWN\n",
    "\n",
    "        prev_key = key\n",
    "\n",
    "    return trends"
   ],
   "metadata": {
    "collapsed": false,
    "ExecuteTime": {
     "end_time": "2023-10-31T12:40:27.535272095Z",
     "start_time": "2023-10-31T12:40:27.532165090Z"
    }
   },
   "id": "9bff61111beaa571"
  },
  {
   "cell_type": "markdown",
   "source": [
    "## SR Lines\n",
    "\n",
    "Now that we have the trend ends, we can extract support and resistance lines from them. These lines have a price which is the price of the day the trend finished, and a weight. For now we are computing the weight based on the length of trend which has finished."
   ],
   "metadata": {
    "collapsed": false
   },
   "id": "fd114f9d9b580337"
  },
  {
   "cell_type": "code",
   "execution_count": 21,
   "outputs": [],
   "source": [
    "import pydantic"
   ],
   "metadata": {
    "collapsed": false,
    "ExecuteTime": {
     "end_time": "2023-10-31T12:41:52.740282149Z",
     "start_time": "2023-10-31T12:41:52.699725185Z"
    }
   },
   "id": "be35e38aadf7ede2"
  },
  {
   "cell_type": "code",
   "execution_count": 22,
   "outputs": [],
   "source": [
    "class SRLine(pydantic.BaseModel):\n",
    "    price: float\n",
    "    weight: float"
   ],
   "metadata": {
    "collapsed": false,
    "ExecuteTime": {
     "end_time": "2023-10-31T12:41:52.894788413Z",
     "start_time": "2023-10-31T12:41:52.892203520Z"
    }
   },
   "id": "6cd48777ea9634c"
  },
  {
   "cell_type": "code",
   "execution_count": 23,
   "outputs": [],
   "source": [
    "def get_sr_lines(\n",
    "        price_df: pd.DataFrame,\n",
    "        trends: list[Trend],\n",
    "        length_factor: float = 1.0,\n",
    "        static_factor: float = 1.0,\n",
    ") -> list[SRLine]:\n",
    "    sr_lines = []\n",
    "    for trend in trends:\n",
    "        length_weight = length_factor * (trend.end_date - trend.start_date).days\n",
    "        sr_lines.append(\n",
    "            SRLine(\n",
    "                price=price_df.loc[trend.end_date]['Close'],\n",
    "                weight=static_factor * length_weight,\n",
    "            )\n",
    "        )\n",
    "\n",
    "    return sr_lines"
   ],
   "metadata": {
    "collapsed": false,
    "ExecuteTime": {
     "end_time": "2023-10-31T12:41:53.060415557Z",
     "start_time": "2023-10-31T12:41:53.059183071Z"
    }
   },
   "id": "65bb615e83e26146"
  },
  {
   "cell_type": "markdown",
   "source": [
    "## SR Line Optimization\n",
    "\n",
    "Not all support/resistance lines are needed. So in this stage we are going to merge lines that are too close to eachother. The merged line has a weight which is the total of weights and it's price is a weighted average of the previous prices. "
   ],
   "metadata": {
    "collapsed": false
   },
   "id": "928efdc83c46433e"
  },
  {
   "cell_type": "code",
   "execution_count": 11,
   "outputs": [],
   "source": [
    "def compute_price_threshold(sr_lines: list[SRLine], percentage: float = 1.0) -> float:\n",
    "    max_v = max([sr_line.price for sr_line in sr_lines])\n",
    "    min_v = min([sr_line.price for sr_line in sr_lines])\n",
    "    return percentage * (max_v - min_v) / 100.0"
   ],
   "metadata": {
    "collapsed": false,
    "ExecuteTime": {
     "end_time": "2023-10-31T12:35:01.869337614Z",
     "start_time": "2023-10-31T12:35:01.868646799Z"
    }
   },
   "id": "6cc3104783c8bed9"
  },
  {
   "cell_type": "code",
   "execution_count": 12,
   "outputs": [],
   "source": [
    "def merge_sr_lines(sr_lines: list[SRLine], threshold: float = 10) -> list[SRLine]:\n",
    "    sorted_sr_lines = sorted(sr_lines, key=lambda x: x.price)\n",
    "\n",
    "    while True:\n",
    "        change_happened = False\n",
    "\n",
    "        for i, sr_line1 in enumerate(sorted_sr_lines):\n",
    "            if i == len(sorted_sr_lines):\n",
    "                break\n",
    "\n",
    "            for sr_line2 in sorted_sr_lines[i + 1:]:\n",
    "                if abs(sr_line1.price - sr_line2.price) > threshold:\n",
    "                    continue\n",
    "\n",
    "                new_price = ((sr_line1.price * sr_line1.weight) + (sr_line2.price * sr_line2.weight)) / (\n",
    "                            sr_line1.weight + sr_line2.weight)\n",
    "                new_weight = sr_line1.weight + sr_line2.weight\n",
    "                sorted_sr_lines.append(\n",
    "                    SRLine(\n",
    "                        price=new_price,\n",
    "                        weight=new_weight,\n",
    "                    ),\n",
    "                )\n",
    "\n",
    "                sorted_sr_lines.remove(sr_line1)\n",
    "                sorted_sr_lines.remove(sr_line2)\n",
    "                change_happened = True\n",
    "                break\n",
    "\n",
    "            if change_happened:\n",
    "                break\n",
    "\n",
    "        if not change_happened:\n",
    "            break\n",
    "\n",
    "    return sorted_sr_lines"
   ],
   "metadata": {
    "collapsed": false,
    "ExecuteTime": {
     "end_time": "2023-10-31T12:35:01.869716134Z",
     "start_time": "2023-10-31T12:35:01.868817895Z"
    }
   },
   "id": "68780e7642af66ad"
  },
  {
   "cell_type": "markdown",
   "source": [
    "## Tradingview Output\n",
    "\n",
    "To make this code easier to use for traders, this stage converts the SR lines to a pine script that can be used in tradingview. Simply we are going to copy the output of this function to the "
   ],
   "metadata": {
    "collapsed": false
   },
   "id": "199cdfc7b9eef867"
  },
  {
   "cell_type": "code",
   "execution_count": 24,
   "outputs": [],
   "source": [
    "def generate_palm_script(sr_lines: list[SRLine]) -> str:\n",
    "    max_weight = max([sr_line.weight for sr_line in sr_lines])\n",
    "    min_weight = min([sr_line.weight for sr_line in sr_lines])\n",
    "    \n",
    "    lines = [\n",
    "        '//@version=5',\n",
    "        'indicator(\"SR Lines\", overlay = true)',\n",
    "    ]\n",
    "\n",
    "    for sr_line in sr_lines:\n",
    "        red = 70\n",
    "        green = 130\n",
    "        blue = 240\n",
    "        transparency = min (20, 100 - (((sr_line.weight - min_weight) / (max_weight - min_weight)) * 100))\n",
    "        lines.append(\n",
    "            f'hline({sr_line.price},linestyle=hline.style_solid, color=color.rgb({red}, {green}, {blue}, {transparency}), linewidth=1)'\n",
    "        )\n",
    "    \n",
    "    return '\\n'.join(lines)"
   ],
   "metadata": {
    "collapsed": false,
    "ExecuteTime": {
     "end_time": "2023-10-31T12:48:56.324538693Z",
     "start_time": "2023-10-31T12:48:56.281782905Z"
    }
   },
   "id": "cbb4bfa67827e95f"
  },
  {
   "cell_type": "markdown",
   "source": [
    "## Main\n",
    "\n",
    "This part glues all the previous stages together."
   ],
   "metadata": {
    "collapsed": false
   },
   "id": "bfe05dc2c5a9a4ee"
  },
  {
   "cell_type": "code",
   "execution_count": 25,
   "outputs": [],
   "source": [
    "SYMBOL = '^GSPC'\n",
    "START_DATE = datetime.date(2020, 1, 1)\n",
    "END_DATE = datetime.datetime.today().date()\n",
    "MA_WINDOW_SIZES = [7, 15, 30]\n",
    "MERGE_PRICE_THRESHOLD_PERCENTAGE = 5"
   ],
   "metadata": {
    "collapsed": false,
    "ExecuteTime": {
     "end_time": "2023-10-31T12:48:57.460669025Z",
     "start_time": "2023-10-31T12:48:57.454423880Z"
    }
   },
   "id": "633c926ecce1c0fa"
  },
  {
   "cell_type": "code",
   "execution_count": 26,
   "outputs": [
    {
     "name": "stdout",
     "output_type": "stream",
     "text": [
      "[*********************100%%**********************]  1 of 1 completed\n"
     ]
    },
    {
     "data": {
      "text/plain": "320"
     },
     "execution_count": 26,
     "metadata": {},
     "output_type": "execute_result"
    }
   ],
   "source": [
    "price_df = get_price_df(symbol=SYMBOL, start_date=START_DATE, end_date=END_DATE)\n",
    "\n",
    "all_sr_lines = []\n",
    "for window in MA_WINDOW_SIZES:\n",
    "    moving_averages = get_moving_average(price_df=price_df, window=window)\n",
    "    trends = get_trends(moving_averages=moving_averages)\n",
    "    sr_lines = get_sr_lines(\n",
    "        price_df=price_df,\n",
    "        trends=trends,\n",
    "    )\n",
    "    all_sr_lines.extend(sr_lines)\n",
    "\n",
    "len(all_sr_lines)"
   ],
   "metadata": {
    "collapsed": false,
    "ExecuteTime": {
     "end_time": "2023-10-31T12:48:58.365499894Z",
     "start_time": "2023-10-31T12:48:58.009858549Z"
    }
   },
   "id": "33d7ace7b7c9a39b"
  },
  {
   "cell_type": "code",
   "execution_count": 16,
   "outputs": [
    {
     "data": {
      "text/plain": "10"
     },
     "execution_count": 16,
     "metadata": {},
     "output_type": "execute_result"
    }
   ],
   "source": [
    "price_threshold = compute_price_threshold(sr_lines=all_sr_lines, percentage=MERGE_PRICE_THRESHOLD_PERCENTAGE)\n",
    "optimized_sr_lines = merge_sr_lines(sr_lines=all_sr_lines, threshold=price_threshold)\n",
    "len(optimized_sr_lines)"
   ],
   "metadata": {
    "collapsed": false,
    "ExecuteTime": {
     "end_time": "2023-10-31T12:35:03.548151100Z",
     "start_time": "2023-10-31T12:35:03.528420252Z"
    }
   },
   "id": "283f8c3e3edb116e"
  },
  {
   "cell_type": "code",
   "execution_count": 17,
   "outputs": [
    {
     "name": "stdout",
     "output_type": "stream",
     "text": [
      "//@version=5\n",
      "indicator(\"SR Lines\", overlay = true)\n",
      "hline(2460.915866427951,linestyle=hline.style_solid, color=color.rgb(70, 130, 240, 20), linewidth=1)\n",
      "hline(2817.0124423740144,linestyle=hline.style_solid, color=color.rgb(70, 130, 240, 20), linewidth=1)\n",
      "hline(3153.244238021526,linestyle=hline.style_solid, color=color.rgb(70, 130, 240, 20), linewidth=1)\n",
      "hline(3483.933837890625,linestyle=hline.style_solid, color=color.rgb(70, 130, 240, 20), linewidth=1)\n",
      "hline(4706.978080610796,linestyle=hline.style_solid, color=color.rgb(70, 130, 240, 20), linewidth=1)\n",
      "hline(3335.985647411193,linestyle=hline.style_solid, color=color.rgb(70, 130, 240, 20), linewidth=1)\n",
      "hline(4013.792654111404,linestyle=hline.style_solid, color=color.rgb(70, 130, 240, 20), linewidth=1)\n",
      "hline(3824.8398571918015,linestyle=hline.style_solid, color=color.rgb(70, 130, 240, 16.978922716627636), linewidth=1)\n",
      "hline(4199.254559536638,linestyle=hline.style_solid, color=color.rgb(70, 130, 240, 20), linewidth=1)\n",
      "hline(4472.65104078783,linestyle=hline.style_solid, color=color.rgb(70, 130, 240, 0.0), linewidth=1)\n"
     ]
    }
   ],
   "source": [
    "print(generate_palm_script(sr_lines=optimized_sr_lines))"
   ],
   "metadata": {
    "collapsed": false,
    "ExecuteTime": {
     "end_time": "2023-10-31T12:35:04.759073806Z",
     "start_time": "2023-10-31T12:35:04.755437307Z"
    }
   },
   "id": "345ef2080a522a1a"
  },
  {
   "cell_type": "markdown",
   "source": [
    "## Result\n",
    "\n",
    "![sr_line_indicator_result](../docs/images/sr_lines_indicator_result.png)"
   ],
   "metadata": {
    "collapsed": false
   },
   "id": "fe14b0eb949af35f"
  },
  {
   "cell_type": "markdown",
   "source": [
    "## Future Works\n",
    "\n",
    "- Implement other weighing mechanisms for SR lines.\n",
    "    - e.g. weight multiplier based on the moving average duration.\n",
    "- Filter SR lines with weights lower than a specific threshold.\n",
    "- Find a way to define the merge threshold percentage instead algorithmically.\n",
    "- Provide a testing mechanism to validate the results.\n",
    "    - We should separate the data into train/validate/test.\n",
    "    - The reward function can be the distance between each line and all the trend lines.\n",
    "- It would be nice if we could somehow run the pine script directly on tradingview instead of copying it there."
   ],
   "metadata": {
    "collapsed": false
   },
   "id": "3cb9245d60ffc31d"
  }
 ],
 "metadata": {
  "kernelspec": {
   "display_name": "monireh-yousefi_trading-experiments",
   "language": "python",
   "name": "monireh-yousefi_trading-experiments"
  },
  "language_info": {
   "codemirror_mode": {
    "name": "ipython",
    "version": 3
   },
   "file_extension": ".py",
   "mimetype": "text/x-python",
   "name": "python",
   "nbconvert_exporter": "python",
   "pygments_lexer": "ipython3",
   "version": "3.12.0"
  }
 },
 "nbformat": 4,
 "nbformat_minor": 5
}
